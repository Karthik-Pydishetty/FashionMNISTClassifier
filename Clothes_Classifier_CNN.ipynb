{
  "cells": [
    {
      "cell_type": "markdown",
      "metadata": {
        "id": "view-in-github",
        "colab_type": "text"
      },
      "source": [
        "<a href=\"https://colab.research.google.com/github/Karthik-Pydishetty/FashionMNISTClassifier/blob/main/Clothes_Classifier_CNN.ipynb\" target=\"_parent\"><img src=\"https://colab.research.google.com/assets/colab-badge.svg\" alt=\"Open In Colab\"/></a>"
      ]
    },
    {
      "cell_type": "code",
      "execution_count": 1,
      "metadata": {
        "id": "s63S71Z4r4fV"
      },
      "outputs": [],
      "source": [
        "import torch\n",
        "\n",
        "import torchvision\n",
        "import torchvision.transforms as transforms"
      ]
    },
    {
      "cell_type": "code",
      "execution_count": 2,
      "metadata": {
        "colab": {
          "base_uri": "https://localhost:8080/"
        },
        "id": "ElD7fU-Br4fX",
        "outputId": "73c3065c-a0eb-4508-e7ce-3ab6b9ed3d46"
      },
      "outputs": [
        {
          "output_type": "stream",
          "name": "stdout",
          "text": [
            "Downloading http://fashion-mnist.s3-website.eu-central-1.amazonaws.com/train-images-idx3-ubyte.gz\n",
            "Downloading http://fashion-mnist.s3-website.eu-central-1.amazonaws.com/train-images-idx3-ubyte.gz to ./data/FashionMNIST/raw/train-images-idx3-ubyte.gz\n"
          ]
        },
        {
          "output_type": "stream",
          "name": "stderr",
          "text": [
            "100%|██████████| 26421880/26421880 [00:02<00:00, 10056170.01it/s]\n"
          ]
        },
        {
          "output_type": "stream",
          "name": "stdout",
          "text": [
            "Extracting ./data/FashionMNIST/raw/train-images-idx3-ubyte.gz to ./data/FashionMNIST/raw\n",
            "\n",
            "Downloading http://fashion-mnist.s3-website.eu-central-1.amazonaws.com/train-labels-idx1-ubyte.gz\n",
            "Downloading http://fashion-mnist.s3-website.eu-central-1.amazonaws.com/train-labels-idx1-ubyte.gz to ./data/FashionMNIST/raw/train-labels-idx1-ubyte.gz\n"
          ]
        },
        {
          "output_type": "stream",
          "name": "stderr",
          "text": [
            "100%|██████████| 29515/29515 [00:00<00:00, 172988.00it/s]\n"
          ]
        },
        {
          "output_type": "stream",
          "name": "stdout",
          "text": [
            "Extracting ./data/FashionMNIST/raw/train-labels-idx1-ubyte.gz to ./data/FashionMNIST/raw\n",
            "\n",
            "Downloading http://fashion-mnist.s3-website.eu-central-1.amazonaws.com/t10k-images-idx3-ubyte.gz\n",
            "Downloading http://fashion-mnist.s3-website.eu-central-1.amazonaws.com/t10k-images-idx3-ubyte.gz to ./data/FashionMNIST/raw/t10k-images-idx3-ubyte.gz\n"
          ]
        },
        {
          "output_type": "stream",
          "name": "stderr",
          "text": [
            "100%|██████████| 4422102/4422102 [00:01<00:00, 3199345.65it/s]\n"
          ]
        },
        {
          "output_type": "stream",
          "name": "stdout",
          "text": [
            "Extracting ./data/FashionMNIST/raw/t10k-images-idx3-ubyte.gz to ./data/FashionMNIST/raw\n",
            "\n",
            "Downloading http://fashion-mnist.s3-website.eu-central-1.amazonaws.com/t10k-labels-idx1-ubyte.gz\n",
            "Downloading http://fashion-mnist.s3-website.eu-central-1.amazonaws.com/t10k-labels-idx1-ubyte.gz to ./data/FashionMNIST/raw/t10k-labels-idx1-ubyte.gz\n"
          ]
        },
        {
          "output_type": "stream",
          "name": "stderr",
          "text": [
            "100%|██████████| 5148/5148 [00:00<00:00, 6188672.11it/s]"
          ]
        },
        {
          "output_type": "stream",
          "name": "stdout",
          "text": [
            "Extracting ./data/FashionMNIST/raw/t10k-labels-idx1-ubyte.gz to ./data/FashionMNIST/raw\n",
            "\n"
          ]
        },
        {
          "output_type": "stream",
          "name": "stderr",
          "text": [
            "\n"
          ]
        }
      ],
      "source": [
        "device = 'cuda:0' if torch.cuda.is_available() else 'cpu'\n",
        "transform = transforms.ToTensor()\n",
        "\n",
        "batch_size = 8\n",
        "\n",
        "train_dataset = torchvision.datasets.FashionMNIST(root = './data', train = True,\n",
        "                                                download=True, transform = transform)\n",
        "\n",
        "test_dataset = torchvision.datasets.FashionMNIST(root = './data', train = False,\n",
        "                                                download=True, transform = transform)\n",
        "\n",
        "classes = ('T-shirt/top', 'Trouser/pants', 'Pullover shirt', 'Dress', 'Coat', 'Sandal'\n",
        "        , 'Shirt', 'Sneaker', 'Bag', 'Ankle boot')\n"
      ]
    },
    {
      "cell_type": "code",
      "execution_count": 3,
      "metadata": {
        "colab": {
          "base_uri": "https://localhost:8080/"
        },
        "id": "ncae9_Har4fX",
        "outputId": "61b9bace-6da3-47ae-cc98-fe0878c48519"
      },
      "outputs": [
        {
          "output_type": "execute_result",
          "data": {
            "text/plain": [
              "(torch.Size([1, 28, 28]), 9)"
            ]
          },
          "metadata": {},
          "execution_count": 3
        }
      ],
      "source": [
        "train_iter = iter(train_dataset) # iterates over training dataset\n",
        "\n",
        "image, label = next(train_iter) # Image and label pair which is next on the train iter\n",
        "\n",
        "image.shape, label\n",
        "\n",
        "# 1 color chanel height = 28 pixels, width 28 pixels"
      ]
    },
    {
      "cell_type": "code",
      "execution_count": 4,
      "metadata": {
        "colab": {
          "base_uri": "https://localhost:8080/"
        },
        "id": "LM_fd6eEr4fY",
        "outputId": "c2f63609-0f08-4e9e-e662-2f8752b48542"
      },
      "outputs": [
        {
          "output_type": "execute_result",
          "data": {
            "text/plain": [
              "(0.0, 1.0)"
            ]
          },
          "metadata": {},
          "execution_count": 4
        }
      ],
      "source": [
        "torch.min(image).item(), torch.max(image).item()\n",
        "\n",
        "# min and max color of all pixels in image"
      ]
    },
    {
      "cell_type": "code",
      "execution_count": 5,
      "metadata": {
        "colab": {
          "base_uri": "https://localhost:8080/",
          "height": 465
        },
        "id": "scVBh-Z_r4fY",
        "outputId": "8b220265-4c90-494e-a9c2-3b6f618450c0"
      },
      "outputs": [
        {
          "output_type": "stream",
          "name": "stdout",
          "text": [
            "Ankle boot\n"
          ]
        },
        {
          "output_type": "execute_result",
          "data": {
            "text/plain": [
              "<matplotlib.image.AxesImage at 0x7d2aaec709d0>"
            ]
          },
          "metadata": {},
          "execution_count": 5
        },
        {
          "output_type": "display_data",
          "data": {
            "text/plain": [
              "<Figure size 640x480 with 1 Axes>"
            ],
            "image/png": "[encoded data removed]"
          },
          "metadata": {}
        }
      ],
      "source": [
        "import matplotlib.pyplot as plt\n",
        "import numpy as np\n",
        "\n",
        "np_img = image.numpy()\n",
        "print(classes[label])\n",
        "plt.imshow(np_img.reshape((28, 28, 1))) # matplotlib requres num of channels to be in back"
      ]
    },
    {
      "cell_type": "code",
      "execution_count": 6,
      "metadata": {
        "colab": {
          "base_uri": "https://localhost:8080/"
        },
        "id": "UKUrrbmpr4fY",
        "outputId": "1ad9a55a-b4f7-451c-91ef-8da6aad08687"
      },
      "outputs": [
        {
          "output_type": "execute_result",
          "data": {
            "text/plain": [
              "(60000, 10000)"
            ]
          },
          "metadata": {},
          "execution_count": 6
        }
      ],
      "source": [
        "len(train_dataset), len(test_dataset)"
      ]
    },
    {
      "cell_type": "code",
      "execution_count": 7,
      "metadata": {
        "id": "1BCq8R-9r4fZ"
      },
      "outputs": [],
      "source": [
        "train_dataset, val_dataset = torch.utils.data.random_split(train_dataset, [50000,10000])\n",
        "\n",
        "# validation set is used to tune hyperparameters after every epoch\n",
        "\n",
        "train_loader = torch.utils.data.DataLoader(train_dataset, batch_size=batch_size,\n",
        "                                        shuffle = True, num_workers=2)\n",
        "\n",
        "valid_loader = torch.utils.data.DataLoader(val_dataset, batch_size=batch_size,\n",
        "                                        shuffle = False, num_workers=2)\n",
        "\n",
        "test_loader = torch.utils.data.DataLoader(test_dataset, batch_size=batch_size,\n",
        "                                        shuffle = False, num_workers=2)"
      ]
    },
    {
      "cell_type": "code",
      "execution_count": 8,
      "metadata": {
        "id": "aMhs_AEJr4fZ"
      },
      "outputs": [],
      "source": [
        "import torch.nn as nn\n",
        "import torch.nn.functional as F\n",
        "\n",
        "# Architecture of neural network\n",
        "class NeuralNet(nn.Module):\n",
        "    def __init__(self):\n",
        "        super().__init__()\n",
        "\n",
        "        self.conv1 = nn.Conv2d(in_channels=1, out_channels=256, kernel_size=3) # 1 color channel, 256 feature maps, 3 by 3 kernal (filter)\n",
        "        self.pool1 = nn.MaxPool2d(2, 2)\n",
        "\n",
        "        self.conv2 = nn.Conv2d(in_channels=256, out_channels=512, kernel_size=3)\n",
        "        self.pool2 = nn.MaxPool2d(2, 2)\n",
        "\n",
        "        self.conv3 = nn.Conv2d(in_channels=512, out_channels=1024, kernel_size=2)\n",
        "        self.pool3 = nn.MaxPool2d(2, 2)\n",
        "\n",
        "        self.flatten = nn.Flatten() # flattens skinny image into a vector\n",
        "\n",
        "        self.fc1 = nn.Linear(in_features=4096, out_features=1024)\n",
        "        self.drop1 = nn.Dropout(p=0.3) # 30% chance of out features turning to 0, preventing overfitting\n",
        "\n",
        "        self.fc2 = nn.Linear(in_features=1024, out_features=1024)\n",
        "        self.drop2 = nn.Dropout(p=0.3)\n",
        "\n",
        "        self.out = nn.Linear(in_features=1024, out_features=10)\n",
        "\n",
        "    # Forward pass\n",
        "    def forward(self, x):\n",
        "        x = F.relu(self.conv1(x))\n",
        "        x = self.pool1(x)\n",
        "\n",
        "        x = F.relu(self.conv2(x))\n",
        "        x = self.pool2(x)\n",
        "\n",
        "        x = F.relu(self.conv3(x))\n",
        "        x = self.pool3(x)\n",
        "\n",
        "        x = self.flatten(x)\n",
        "\n",
        "        x = F.relu(self.fc1(x))\n",
        "        x = self.drop1(x)\n",
        "\n",
        "        x = F.relu(self.fc2(x))\n",
        "        x = self.drop2(x)\n",
        "\n",
        "        x = self.out(x)\n",
        "\n",
        "        return x"
      ]
    },
    {
      "cell_type": "code",
      "execution_count": 9,
      "metadata": {
        "colab": {
          "base_uri": "https://localhost:8080/"
        },
        "id": "Ki9ftIj7r4fZ",
        "outputId": "66a62c06-3dfe-4dad-892c-3ea918842ae4"
      },
      "outputs": [
        {
          "output_type": "execute_result",
          "data": {
            "text/plain": [
              "NeuralNet(\n",
              "  (conv1): Conv2d(1, 256, kernel_size=(3, 3), stride=(1, 1))\n",
              "  (pool1): MaxPool2d(kernel_size=2, stride=2, padding=0, dilation=1, ceil_mode=False)\n",
              "  (conv2): Conv2d(256, 512, kernel_size=(3, 3), stride=(1, 1))\n",
              "  (pool2): MaxPool2d(kernel_size=2, stride=2, padding=0, dilation=1, ceil_mode=False)\n",
              "  (conv3): Conv2d(512, 1024, kernel_size=(2, 2), stride=(1, 1))\n",
              "  (pool3): MaxPool2d(kernel_size=2, stride=2, padding=0, dilation=1, ceil_mode=False)\n",
              "  (flatten): Flatten(start_dim=1, end_dim=-1)\n",
              "  (fc1): Linear(in_features=4096, out_features=1024, bias=True)\n",
              "  (drop1): Dropout(p=0.3, inplace=False)\n",
              "  (fc2): Linear(in_features=1024, out_features=1024, bias=True)\n",
              "  (drop2): Dropout(p=0.3, inplace=False)\n",
              "  (out): Linear(in_features=1024, out_features=10, bias=True)\n",
              ")"
            ]
          },
          "metadata": {},
          "execution_count": 9
        }
      ],
      "source": [
        "net = NeuralNet()\n",
        "net.to(device)"
      ]
    },
    {
      "cell_type": "code",
      "execution_count": 10,
      "metadata": {
        "colab": {
          "base_uri": "https://localhost:8080/"
        },
        "id": "oZ3G25CWr4fZ",
        "outputId": "a1976f98-0149-48fa-d82e-71d0d4f30466"
      },
      "outputs": [
        {
          "output_type": "stream",
          "name": "stdout",
          "text": [
            " input shape: torch.Size([8, 1, 28, 28])\n",
            "after network shape: torch.Size([8, 10])\n"
          ]
        }
      ],
      "source": [
        "for i, data in enumerate(train_loader):\n",
        "    images, labels = data[0].to(device), data[1].to(device) # moves entire batch of images and labels and esnures all computation is done on same device\n",
        "    print(f' input shape: {images.shape}')\n",
        "    print(f'after network shape: {net(images).shape}') # batch size, num of feature maps, height, width\n",
        "    break\n",
        ""
      ]
    },
    {
      "cell_type": "code",
      "execution_count": 11,
      "metadata": {
        "colab": {
          "base_uri": "https://localhost:8080/"
        },
        "id": "iO5kr9I-r4fa",
        "outputId": "21f47557-6b61-4ee6-e60a-b5dee9466f4f"
      },
      "outputs": [
        {
          "output_type": "stream",
          "name": "stdout",
          "text": [
            "Number of parameters in the model: 8,536,074\n"
          ]
        }
      ],
      "source": [
        "num_params = 0\n",
        "for x in net.parameters():\n",
        "  num_params += len(torch.flatten(x))\n",
        "\n",
        "print(f'Number of parameters in the model: {num_params:,}')"
      ]
    },
    {
      "cell_type": "code",
      "execution_count": 12,
      "metadata": {
        "id": "jsNNoBB_r4fa"
      },
      "outputs": [],
      "source": [
        "import torch.optim as optim\n",
        "\n",
        "criterion = nn.CrossEntropyLoss()\n",
        "optimizer = optim.Adam(net.parameters(), lr = 0.0001) # adam optimizer adjusts learning rate accordingly"
      ]
    },
    {
      "cell_type": "code",
      "execution_count": 13,
      "metadata": {
        "id": "7kZ69RqEr4fa"
      },
      "outputs": [],
      "source": [
        "def train_one_epoch():\n",
        "    net.train(True) # Neural net\n",
        "\n",
        "    running_loss = 0.0\n",
        "\n",
        "    running_accuracy = 0.0\n",
        "\n",
        "    for batch_index, data in enumerate(train_loader):\n",
        "        images, labels = data[0].to(device), data[1].to(device) # moves entire batch of images and labels to device\n",
        "\n",
        "        optimizer.zero_grad()\n",
        "\n",
        "        outputs = net(images) # shape [batchsize, 10]\n",
        "        correct = torch.sum(labels == torch.argmax(outputs, dim=1)).item() # torchargmax is vector of predictions\n",
        "        running_accuracy += correct / batch_size\n",
        "\n",
        "        loss = criterion(outputs, labels)\n",
        "        running_loss += loss.item()\n",
        "        loss.backward()\n",
        "        optimizer.step()\n",
        "\n",
        "        if batch_index % 500 == 499:  # print every 500 batches\n",
        "            avg_loss_across_batches = running_loss / 500\n",
        "            avg_acc_across_batches = (running_accuracy / 500) * 100\n",
        "            print('Batch {0}, Loss: {1:.3f}, Accuracy: {2:.1f}%'.format(batch_index+1,\n",
        "                                                        avg_loss_across_batches,\n",
        "                                                        avg_acc_across_batches))\n",
        "            running_loss = 0.0\n",
        "            running_accuracy = 0.0\n",
        "\n",
        "    print()"
      ]
    },
    {
      "cell_type": "code",
      "execution_count": 20,
      "metadata": {
        "id": "kCVyZyccr4fa"
      },
      "outputs": [],
      "source": [
        "def validate_one_epoch():\n",
        "    net.train(False)\n",
        "    running_loss = 0.0\n",
        "    running_accuracy = 0.0\n",
        "\n",
        "    for i, data in enumerate(valid_loader):\n",
        "        images, labels = data[0].to(device), data[1].to(device)\n",
        "\n",
        "        with torch.no_grad():\n",
        "            outputs = net(images) # shape: [batch_size, 10]\n",
        "            correct = torch.sum(labels == torch.argmax(outputs, dim=1)).item()\n",
        "            running_accuracy += correct / batch_size\n",
        "            loss = criterion(outputs, labels) # One number, the average batch loss\n",
        "            running_loss += loss.item()\n",
        "\n",
        "    avg_loss_across_batches = running_loss / len(valid_loader) # of batchs in validation set\n",
        "    avg_acc_across_batches = (running_accuracy / len(valid_loader)) * 100\n",
        "\n",
        "    print('Val Loss: {0:.3f}, Val Accuracy: {1:.1f}%'.format(avg_loss_across_batches,\n",
        "                                                            avg_acc_across_batches))\n",
        "    print('***************************************************')\n",
        "    print()"
      ]
    },
    {
      "cell_type": "code",
      "execution_count": 15,
      "metadata": {
        "colab": {
          "base_uri": "https://localhost:8080/"
        },
        "id": "Vj8nyRhdr4fa",
        "outputId": "d9ea5035-c89c-40ed-b944-3a052a00863d"
      },
      "outputs": [
        {
          "output_type": "stream",
          "name": "stdout",
          "text": [
            "Epoch:  0\n",
            "Batch 500, Loss: 1.182, Accuracy: 55.2%\n",
            "Batch 1000, Loss: 0.722, Accuracy: 73.5%\n",
            "Batch 1500, Loss: 0.664, Accuracy: 74.2%\n",
            "Batch 2000, Loss: 0.586, Accuracy: 78.1%\n",
            "Batch 2500, Loss: 0.549, Accuracy: 79.2%\n",
            "Batch 3000, Loss: 0.508, Accuracy: 81.2%\n",
            "Batch 3500, Loss: 0.506, Accuracy: 80.9%\n",
            "Batch 4000, Loss: 0.479, Accuracy: 81.8%\n",
            "Batch 4500, Loss: 0.467, Accuracy: 83.0%\n",
            "Batch 5000, Loss: 0.458, Accuracy: 83.2%\n",
            "Batch 5500, Loss: 0.412, Accuracy: 84.1%\n",
            "Batch 6000, Loss: 0.430, Accuracy: 83.7%\n",
            "\n",
            "Val Loss: 0.417, Val Accuracy: 84.3%\n",
            "***************************************************\n",
            "\n",
            "Epoch:  1\n",
            "Batch 500, Loss: 0.396, Accuracy: 85.4%\n",
            "Batch 1000, Loss: 0.364, Accuracy: 86.5%\n",
            "Batch 1500, Loss: 0.366, Accuracy: 86.5%\n",
            "Batch 2000, Loss: 0.369, Accuracy: 86.5%\n",
            "Batch 2500, Loss: 0.367, Accuracy: 86.7%\n",
            "Batch 3000, Loss: 0.337, Accuracy: 87.5%\n",
            "Batch 3500, Loss: 0.349, Accuracy: 86.9%\n",
            "Batch 4000, Loss: 0.352, Accuracy: 86.8%\n",
            "Batch 4500, Loss: 0.342, Accuracy: 87.5%\n",
            "Batch 5000, Loss: 0.335, Accuracy: 87.4%\n",
            "Batch 5500, Loss: 0.317, Accuracy: 88.5%\n",
            "Batch 6000, Loss: 0.317, Accuracy: 88.4%\n",
            "\n",
            "Val Loss: 0.327, Val Accuracy: 88.2%\n",
            "***************************************************\n",
            "\n",
            "Epoch:  2\n",
            "Batch 500, Loss: 0.291, Accuracy: 89.5%\n",
            "Batch 1000, Loss: 0.305, Accuracy: 89.0%\n",
            "Batch 1500, Loss: 0.290, Accuracy: 89.6%\n",
            "Batch 2000, Loss: 0.296, Accuracy: 89.2%\n",
            "Batch 2500, Loss: 0.282, Accuracy: 89.5%\n",
            "Batch 3000, Loss: 0.290, Accuracy: 89.7%\n",
            "Batch 3500, Loss: 0.287, Accuracy: 89.2%\n",
            "Batch 4000, Loss: 0.296, Accuracy: 89.4%\n",
            "Batch 4500, Loss: 0.291, Accuracy: 89.0%\n",
            "Batch 5000, Loss: 0.282, Accuracy: 90.1%\n",
            "Batch 5500, Loss: 0.274, Accuracy: 90.1%\n",
            "Batch 6000, Loss: 0.290, Accuracy: 89.0%\n",
            "\n",
            "Val Loss: 0.276, Val Accuracy: 89.7%\n",
            "***************************************************\n",
            "\n",
            "Epoch:  3\n",
            "Batch 500, Loss: 0.250, Accuracy: 90.7%\n",
            "Batch 1000, Loss: 0.246, Accuracy: 91.6%\n",
            "Batch 1500, Loss: 0.237, Accuracy: 91.8%\n",
            "Batch 2000, Loss: 0.269, Accuracy: 90.1%\n",
            "Batch 2500, Loss: 0.259, Accuracy: 90.7%\n",
            "Batch 3000, Loss: 0.264, Accuracy: 90.0%\n",
            "Batch 3500, Loss: 0.262, Accuracy: 89.9%\n",
            "Batch 4000, Loss: 0.236, Accuracy: 91.2%\n",
            "Batch 4500, Loss: 0.239, Accuracy: 91.3%\n",
            "Batch 5000, Loss: 0.259, Accuracy: 90.0%\n",
            "Batch 5500, Loss: 0.257, Accuracy: 90.6%\n",
            "Batch 6000, Loss: 0.242, Accuracy: 91.0%\n",
            "\n",
            "Val Loss: 0.259, Val Accuracy: 90.2%\n",
            "***************************************************\n",
            "\n",
            "Epoch:  4\n",
            "Batch 500, Loss: 0.216, Accuracy: 92.0%\n",
            "Batch 1000, Loss: 0.228, Accuracy: 91.3%\n",
            "Batch 1500, Loss: 0.224, Accuracy: 91.9%\n",
            "Batch 2000, Loss: 0.222, Accuracy: 92.2%\n",
            "Batch 2500, Loss: 0.223, Accuracy: 92.0%\n",
            "Batch 3000, Loss: 0.227, Accuracy: 91.1%\n",
            "Batch 3500, Loss: 0.222, Accuracy: 91.6%\n",
            "Batch 4000, Loss: 0.223, Accuracy: 92.0%\n",
            "Batch 4500, Loss: 0.227, Accuracy: 91.7%\n",
            "Batch 5000, Loss: 0.209, Accuracy: 92.5%\n",
            "Batch 5500, Loss: 0.216, Accuracy: 92.0%\n",
            "Batch 6000, Loss: 0.239, Accuracy: 91.1%\n",
            "\n",
            "Val Loss: 0.272, Val Accuracy: 89.7%\n",
            "***************************************************\n",
            "\n",
            "Epoch:  5\n",
            "Batch 500, Loss: 0.184, Accuracy: 93.5%\n",
            "Batch 1000, Loss: 0.216, Accuracy: 92.7%\n",
            "Batch 1500, Loss: 0.191, Accuracy: 93.4%\n",
            "Batch 2000, Loss: 0.192, Accuracy: 92.9%\n",
            "Batch 2500, Loss: 0.203, Accuracy: 92.5%\n",
            "Batch 3000, Loss: 0.183, Accuracy: 93.5%\n",
            "Batch 3500, Loss: 0.209, Accuracy: 92.7%\n",
            "Batch 4000, Loss: 0.200, Accuracy: 92.3%\n",
            "Batch 4500, Loss: 0.193, Accuracy: 92.7%\n",
            "Batch 5000, Loss: 0.190, Accuracy: 92.9%\n",
            "Batch 5500, Loss: 0.190, Accuracy: 92.9%\n",
            "Batch 6000, Loss: 0.204, Accuracy: 92.3%\n",
            "\n",
            "Val Loss: 0.217, Val Accuracy: 92.0%\n",
            "***************************************************\n",
            "\n",
            "Epoch:  6\n",
            "Batch 500, Loss: 0.158, Accuracy: 94.1%\n",
            "Batch 1000, Loss: 0.181, Accuracy: 93.4%\n",
            "Batch 1500, Loss: 0.169, Accuracy: 93.9%\n",
            "Batch 2000, Loss: 0.166, Accuracy: 93.7%\n",
            "Batch 2500, Loss: 0.175, Accuracy: 93.5%\n",
            "Batch 3000, Loss: 0.171, Accuracy: 93.7%\n",
            "Batch 3500, Loss: 0.176, Accuracy: 93.7%\n",
            "Batch 4000, Loss: 0.169, Accuracy: 93.9%\n",
            "Batch 4500, Loss: 0.184, Accuracy: 93.4%\n",
            "Batch 5000, Loss: 0.176, Accuracy: 93.7%\n",
            "Batch 5500, Loss: 0.182, Accuracy: 93.2%\n",
            "Batch 6000, Loss: 0.178, Accuracy: 92.8%\n",
            "\n",
            "Val Loss: 0.243, Val Accuracy: 91.1%\n",
            "***************************************************\n",
            "\n",
            "Epoch:  7\n",
            "Batch 500, Loss: 0.139, Accuracy: 94.8%\n",
            "Batch 1000, Loss: 0.140, Accuracy: 94.9%\n",
            "Batch 1500, Loss: 0.154, Accuracy: 94.3%\n",
            "Batch 2000, Loss: 0.160, Accuracy: 94.0%\n",
            "Batch 2500, Loss: 0.160, Accuracy: 93.7%\n",
            "Batch 3000, Loss: 0.144, Accuracy: 94.5%\n",
            "Batch 3500, Loss: 0.137, Accuracy: 95.0%\n",
            "Batch 4000, Loss: 0.157, Accuracy: 94.4%\n",
            "Batch 4500, Loss: 0.154, Accuracy: 94.3%\n",
            "Batch 5000, Loss: 0.146, Accuracy: 94.5%\n",
            "Batch 5500, Loss: 0.154, Accuracy: 94.6%\n",
            "Batch 6000, Loss: 0.159, Accuracy: 94.2%\n",
            "\n",
            "Val Loss: 0.264, Val Accuracy: 91.1%\n",
            "***************************************************\n",
            "\n",
            "Epoch:  8\n",
            "Batch 500, Loss: 0.119, Accuracy: 95.9%\n",
            "Batch 1000, Loss: 0.128, Accuracy: 95.2%\n",
            "Batch 1500, Loss: 0.147, Accuracy: 94.8%\n",
            "Batch 2000, Loss: 0.130, Accuracy: 95.0%\n",
            "Batch 2500, Loss: 0.120, Accuracy: 95.7%\n",
            "Batch 3000, Loss: 0.138, Accuracy: 95.2%\n",
            "Batch 3500, Loss: 0.139, Accuracy: 94.9%\n",
            "Batch 4000, Loss: 0.141, Accuracy: 94.8%\n",
            "Batch 4500, Loss: 0.134, Accuracy: 94.9%\n",
            "Batch 5000, Loss: 0.129, Accuracy: 94.9%\n",
            "Batch 5500, Loss: 0.133, Accuracy: 95.1%\n",
            "Batch 6000, Loss: 0.136, Accuracy: 95.0%\n",
            "\n",
            "Val Loss: 0.242, Val Accuracy: 91.5%\n",
            "***************************************************\n",
            "\n",
            "Epoch:  9\n",
            "Batch 500, Loss: 0.096, Accuracy: 96.5%\n",
            "Batch 1000, Loss: 0.119, Accuracy: 95.9%\n",
            "Batch 1500, Loss: 0.116, Accuracy: 95.7%\n",
            "Batch 2000, Loss: 0.114, Accuracy: 95.6%\n",
            "Batch 2500, Loss: 0.113, Accuracy: 95.9%\n",
            "Batch 3000, Loss: 0.129, Accuracy: 95.4%\n",
            "Batch 3500, Loss: 0.107, Accuracy: 95.8%\n",
            "Batch 4000, Loss: 0.115, Accuracy: 96.0%\n",
            "Batch 4500, Loss: 0.123, Accuracy: 95.5%\n",
            "Batch 5000, Loss: 0.138, Accuracy: 94.9%\n",
            "Batch 5500, Loss: 0.113, Accuracy: 95.9%\n",
            "Batch 6000, Loss: 0.117, Accuracy: 95.7%\n",
            "\n",
            "Val Loss: 0.291, Val Accuracy: 90.3%\n",
            "***************************************************\n",
            "\n"
          ]
        }
      ],
      "source": [
        "num_epochs = 10\n",
        "\n",
        "for epoch_index in range(num_epochs):\n",
        "    print(\"Epoch: \", epoch_index)\n",
        "\n",
        "    train_one_epoch()\n",
        "\n",
        "    validate_one_epoch()\n",
        "\n",
        ""
      ]
    },
    {
      "cell_type": "code",
      "execution_count": 33,
      "metadata": {
        "colab": {
          "base_uri": "https://localhost:8080/"
        },
        "id": "vvx3Ykqir4fa",
        "outputId": "b595554e-3c17-4242-dd1d-7065135f8d9f"
      },
      "outputs": [
        {
          "output_type": "stream",
          "name": "stdout",
          "text": [
            "Image 1:\n",
            "Predicted: Ankle boot, Actual: Ankle boot\n",
            "Image 2:\n",
            "Predicted: Pullover shirt, Actual: Pullover shirt\n",
            "Image 3:\n",
            "Predicted: Trouser/pants, Actual: Trouser/pants\n",
            "Image 4:\n",
            "Predicted: Trouser/pants, Actual: Trouser/pants\n",
            "Image 5:\n",
            "Predicted: Shirt, Actual: Shirt\n",
            "Image 6:\n",
            "Predicted: Trouser/pants, Actual: Trouser/pants\n",
            "Image 7:\n",
            "Predicted: Coat, Actual: Coat\n",
            "Image 8:\n",
            "Predicted: Shirt, Actual: Shirt\n",
            "Image 9:\n",
            "Predicted: Sandal, Actual: Sandal\n",
            "Image 10:\n",
            "Predicted: Sneaker, Actual: Sneaker\n",
            "Final Average Accuracy: 93.75%\n"
          ]
        }
      ],
      "source": [
        "# test\n",
        "def test():\n",
        "    net.train(False)  # Set the model to evaluation mode\n",
        "    running_loss = 0.0\n",
        "    running_corrects = 0\n",
        "    total_samples = 0\n",
        "    printed_images = 0\n",
        "    classes = ('T-shirt/top', 'Trouser/pants', 'Pullover shirt', 'Dress', 'Coat', 'Sandal',\n",
        "               'Shirt', 'Sneaker', 'Bag', 'Ankle boot')\n",
        "\n",
        "    for i, data in enumerate(test_loader):\n",
        "        images, labels = data[0].to(device), data[1].to(device)\n",
        "        total_samples += labels.size(0)\n",
        "        with torch.no_grad():\n",
        "            outputs = net(images)\n",
        "            predictions = torch.argmax(outputs, dim=1)\n",
        "            corrects = torch.sum(predictions == labels).item()\n",
        "            running_corrects += corrects\n",
        "            loss = criterion(outputs, labels)  # One number, the average batch loss\n",
        "            running_loss += loss.item()\n",
        "\n",
        "            # Print predictions and actual labels for the first 10 images\n",
        "            if printed_images < 10:\n",
        "                for j in range(min(batch_size, 10 - printed_images)):\n",
        "                    print(f'Image {printed_images + 1}:')\n",
        "                    print(f'Predicted: {classes[predictions[j].item()]}, Actual: {classes[labels[j].item()]}')\n",
        "                    printed_images += 1\n",
        "                if printed_images >= 10:\n",
        "                    break\n",
        "\n",
        "    avg_acc = (running_corrects / total_samples) * 100\n",
        "    print(f'Final Average Accuracy: {avg_acc:.2f}%')\n",
        "\n",
        "test()\n",
        "\n",
        "\n",
        "\n"
      ]
    }
  ],
  "metadata": {
    "kernelspec": {
      "display_name": "Python 3",
      "name": "python3"
    },
    "language_info": {
      "codemirror_mode": {
        "name": "ipython",
        "version": 3
      },
      "file_extension": ".py",
      "mimetype": "text/x-python",
      "name": "python",
      "nbconvert_exporter": "python",
      "pygments_lexer": "ipython3",
      "version": "3.11.5"
    },
    "colab": {
      "provenance": [],
      "gpuType": "T4",
      "include_colab_link": true
    },
    "accelerator": "GPU"
  },
  "nbformat": 4,
  "nbformat_minor": 0
}